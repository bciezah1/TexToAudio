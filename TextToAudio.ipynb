{
 "cells": [
  {
   "cell_type": "code",
   "execution_count": 1,
   "metadata": {},
   "outputs": [
    {
     "name": "stdout",
     "output_type": "stream",
     "text": [
      "Loading Library\n"
     ]
    }
   ],
   "source": [
    "print('Loading Library')"
   ]
  },
  {
   "cell_type": "code",
   "execution_count": null,
   "metadata": {},
   "outputs": [
    {
     "name": "stdout",
     "output_type": "stream",
     "text": [
      "✅ Final audio saved as 'C:/Users/bciez/Documents/Basilio/youtube/Historias/LaLloronaDiezHistoria.mp3'\n"
     ]
    }
   ],
   "source": [
    "import boto3\n",
    "from pydub import AudioSegment\n",
    "import textwrap\n",
    "\n",
    "# Define file paths\n",
    "input_text_file = \"C:/Users/bciez/Documents/Basilio/youtube/Historias/LaLloronaDiezHistoria.txt\"  # Text file containing the story\n",
    "output_audio_path = \"C:/Users/bciez/Documents/Basilio/youtube/Historias/LaLloronaDiezHistoria.mp3\"\n",
    "\n",
    "# Load story text from the file\n",
    "with open(input_text_file, \"r\", encoding=\"utf-8\") as file:\n",
    "    story_text = file.read()\n",
    "\n",
    "# Manually define AWS credentials\n",
    "aws_access_key_id = \"access_key\"\n",
    "aws_secret_access_key = \"secret_key\"\n",
    "region_name = \"us-east-1\"  # Change if needed\n",
    "\n",
    "# Initialize AWS Polly client\n",
    "polly_client = boto3.client(\n",
    "    \"polly\",\n",
    "    aws_access_key_id=aws_access_key_id,\n",
    "    aws_secret_access_key=aws_secret_access_key,\n",
    "    region_name=region_name\n",
    ")\n",
    "\n",
    "# ✅ Split text into smaller chunks (~2,900 characters each)\n",
    "text_chunks = textwrap.wrap(story_text, width=2900, break_long_words=False, replace_whitespace=False)\n",
    "\n",
    "# ✅ Generate audio for each chunk\n",
    "audio_files = []\n",
    "for idx, chunk in enumerate(text_chunks):\n",
    "    ssml_text = f\"\"\"\n",
    "    <speak>\n",
    "        <prosody rate=\"slow\">\n",
    "            {chunk}\n",
    "        </prosody>\n",
    "    </speak>\n",
    "    \"\"\"\n",
    "\n",
    "    response = polly_client.synthesize_speech(\n",
    "        Text=ssml_text,\n",
    "        OutputFormat=\"mp3\",\n",
    "        VoiceId=\"Enrique\",  \n",
    "        TextType=\"ssml\"\n",
    "    )\n",
    "\n",
    "    # Save each chunk as a separate MP3 file\n",
    "    file_path = f\"C:/Users/bciez/Documents/Basilio/youtube/llorona_part{idx}.mp3\"\n",
    "    with open(file_path, \"wb\") as file:\n",
    "        file.write(response[\"AudioStream\"].read())\n",
    "    \n",
    "    audio_files.append(file_path)\n",
    "\n",
    "# ✅ Merge all audio parts with consistent encoding\n",
    "final_audio = None\n",
    "for file in audio_files:\n",
    "    segment = AudioSegment.from_mp3(file).set_frame_rate(44100).set_channels(2)  # Ensure standard 44.1kHz stereo\n",
    "    if final_audio is None:\n",
    "        final_audio = segment\n",
    "    else:\n",
    "        final_audio += segment\n",
    "\n",
    "# ✅ Export final audio file in MP3 format\n",
    "if final_audio:\n",
    "    final_audio.export(output_audio_path, format=\"mp3\", bitrate=\"192k\")\n",
    "\n",
    "print(f\"✅ Final audio saved as '{output_audio_path}'\")\n"
   ]
  },
  {
   "cell_type": "code",
   "execution_count": null,
   "metadata": {},
   "outputs": [],
   "source": []
  }
 ],
 "metadata": {
  "kernelspec": {
   "display_name": "base",
   "language": "python",
   "name": "python3"
  },
  "language_info": {
   "codemirror_mode": {
    "name": "ipython",
    "version": 3
   },
   "file_extension": ".py",
   "mimetype": "text/x-python",
   "name": "python",
   "nbconvert_exporter": "python",
   "pygments_lexer": "ipython3",
   "version": "3.9.19"
  }
 },
 "nbformat": 4,
 "nbformat_minor": 2
}
